{
  "cells": [
    {
      "metadata": {
        "trusted": true
      },
      "cell_type": "code",
      "source": "contador=1\nlimiteestaturas=0\nsumaestaturas=0\npromedioestaturas=0\nlimiteestaturas= input(\"ingrese el numero de estaturas para trabajar:\\n\")\nlimiteestaturas=int(limiteestaturas)",
      "execution_count": 50,
      "outputs": [
        {
          "output_type": "stream",
          "name": "stdout",
          "text": "ingrese el numero de estaturas para trabajar:\n3\n"
        }
      ]
    },
    {
      "metadata": {
        "trusted": true
      },
      "cell_type": "code",
      "source": "while contador <= limiteestaturas:\n    estatura=input(\"ingrese una estatura:\\n\")\n    estatura= float(estatura)\n    contador=contador+1 \n    \nsumaestaturas=(sumaestaturas+estatura)\npromedioestaturas= sumaestaturas/limiteestaturas\nprint (promedioestaturas)\n\n    \n        \n        \n\n\n   ",
      "execution_count": 52,
      "outputs": [
        {
          "output_type": "stream",
          "text": "0.4444444444444444\n",
          "name": "stdout"
        }
      ]
    },
    {
      "metadata": {
        "trusted": true
      },
      "cell_type": "code",
      "source": "",
      "execution_count": null,
      "outputs": []
    },
    {
      "metadata": {
        "trusted": true
      },
      "cell_type": "code",
      "source": "",
      "execution_count": null,
      "outputs": []
    },
    {
      "metadata": {
        "trusted": true
      },
      "cell_type": "code",
      "source": "",
      "execution_count": null,
      "outputs": []
    }
  ],
  "metadata": {
    "kernelspec": {
      "name": "python36",
      "display_name": "Python 3.6",
      "language": "python"
    },
    "language_info": {
      "mimetype": "text/x-python",
      "nbconvert_exporter": "python",
      "name": "python",
      "pygments_lexer": "ipython3",
      "version": "3.6.6",
      "file_extension": ".py",
      "codemirror_mode": {
        "version": 3,
        "name": "ipython"
      }
    }
  },
  "nbformat": 4,
  "nbformat_minor": 2
}