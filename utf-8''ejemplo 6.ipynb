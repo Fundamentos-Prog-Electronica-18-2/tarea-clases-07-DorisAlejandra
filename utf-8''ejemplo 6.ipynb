{
  "cells": [
    {
      "metadata": {
        "trusted": true
      },
      "cell_type": "code",
      "source": "contador=1\nlimiteestaturas=0\nsumaestaturas=0\npromedioestaturas=0\nlimiteestaturas= input(\"ingrese el numero de estaturas para trabajar:\\n\")\nlimiteestaturas=int(limiteestaturas)",
      "execution_count": 11,
      "outputs": [
        {
          "output_type": "stream",
          "name": "stdout",
          "text": "ingrese el numero de estaturas para trabajar:\n3\n"
        }
      ]
    },
    {
      "metadata": {
        "trusted": true
      },
      "cell_type": "code",
      "source": "while contador <= limiteestaturas:\n    estatura=input(\"ingrese una estatura:\\n\")\n    estatura= float(estatura)\n    contador=contador+1 \n    sumaestaturas=(sumaestaturas+estatura)\npromedioestaturas= sumaestaturas/limiteestaturas\nprint(\"El promedio es:\")\nprint (promedioestaturas)\n\n    \n        \n        \n\n\n   ",
      "execution_count": 12,
      "outputs": [
        {
          "output_type": "stream",
          "name": "stdout",
          "text": "ingrese una estatura:\n65\ningrese una estatura:\n65\ningrese una estatura:\n65\nEl promedio es:\n65.0\n"
        }
      ]
    },
    {
      "metadata": {
        "trusted": true
      },
      "cell_type": "code",
      "source": "",
      "execution_count": null,
      "outputs": []
    },
    {
      "metadata": {
        "trusted": true
      },
      "cell_type": "code",
      "source": "",
      "execution_count": null,
      "outputs": []
    },
    {
      "metadata": {
        "trusted": true
      },
      "cell_type": "code",
      "source": "",
      "execution_count": null,
      "outputs": []
    }
  ],
  "metadata": {
    "kernelspec": {
      "name": "python36",
      "display_name": "Python 3.6",
      "language": "python"
    },
    "language_info": {
      "mimetype": "text/x-python",
      "nbconvert_exporter": "python",
      "name": "python",
      "pygments_lexer": "ipython3",
      "version": "3.6.6",
      "file_extension": ".py",
      "codemirror_mode": {
        "version": 3,
        "name": "ipython"
      }
    }
  },
  "nbformat": 4,
  "nbformat_minor": 2
}