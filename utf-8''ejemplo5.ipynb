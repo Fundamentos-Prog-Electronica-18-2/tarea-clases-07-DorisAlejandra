{
  "cells": [
    {
      "metadata": {
        "trusted": true
      },
      "cell_type": "code",
      "source": "operacion=0\ncontador =1\nlimite=10\nopcion= input (\"ingrese la opcion que desee realizar \\n\")\nopcion= int (opcion)\nnumero=input (\"ingrese el numero \\n \")\nnumero=int (numero)\ncadena_presentar= \"\"\n",
      "execution_count": 13,
      "outputs": [
        {
          "output_type": "stream",
          "name": "stdout",
          "text": "ingrese la opcion que desee realizar \n2\ningrese el numero \n 20\n"
        }
      ]
    },
    {
      "metadata": {
        "trusted": true
      },
      "cell_type": "code",
      "source": "if opcion==1:\n    while contador <= limite:\n        operacion=numero * contador\n        cadena_presentar =str(numero)+\"*\"+str(contador)+\"=\"+str(operacion)\n        print (cadena_presentar)\n        contador = contador +1\nelse:\n    if opcion==2:\n         while contador <= limite:\n                operacion=numero+contador\n                cadena_presentar =str(numero)+\"+\"+str(contador)+\"=\"+str(operacion)\n                print (cadena_presentar)\n                contador = contador +1\n    else:\n        print (\"usted ha ingresado una opcion incorrecta\")\n\n    \n        \n        \n\n\n   ",
      "execution_count": 14,
      "outputs": [
        {
          "output_type": "stream",
          "text": "20+1=21\n20+2=22\n20+3=23\n20+4=24\n20+5=25\n20+6=26\n20+7=27\n20+8=28\n20+9=29\n20+10=30\n",
          "name": "stdout"
        }
      ]
    },
    {
      "metadata": {
        "trusted": true
      },
      "cell_type": "code",
      "source": "",
      "execution_count": null,
      "outputs": []
    },
    {
      "metadata": {
        "trusted": true
      },
      "cell_type": "code",
      "source": "",
      "execution_count": null,
      "outputs": []
    }
  ],
  "metadata": {
    "kernelspec": {
      "name": "python36",
      "display_name": "Python 3.6",
      "language": "python"
    },
    "language_info": {
      "mimetype": "text/x-python",
      "nbconvert_exporter": "python",
      "name": "python",
      "pygments_lexer": "ipython3",
      "version": "3.6.6",
      "file_extension": ".py",
      "codemirror_mode": {
        "version": 3,
        "name": "ipython"
      }
    }
  },
  "nbformat": 4,
  "nbformat_minor": 2
}